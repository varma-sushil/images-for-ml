{
 "cells": [
  {
   "cell_type": "code",
   "execution_count": 1,
   "metadata": {},
   "outputs": [],
   "source": [
    "!pip install -q google-generativeai"
   ]
  },
  {
   "cell_type": "code",
<<<<<<< HEAD
   "execution_count": 4,
=======
   "execution_count": 1,
>>>>>>> 1976d5e (final script)
   "metadata": {},
   "outputs": [],
   "source": [
    "import google.generativeai as genai\n",
    "from dotenv import load_dotenv\n",
    "import os"
   ]
  },
  {
   "cell_type": "code",
<<<<<<< HEAD
=======
   "execution_count": 2,
   "metadata": {},
   "outputs": [],
   "source": [
    "load_dotenv()\n",
    "api_key = os.getenv('api_key')\n",
    "genai.configure(api_key=api_key)"
   ]
  },
  {
   "cell_type": "code",
   "execution_count": null,
   "metadata": {},
   "outputs": [],
   "source": [
    "for m in genai.list_models():\n",
    "    if 'generateContent' in m.supported_generation_methods:\n",
    "        print(m.name)"
   ]
  },
  {
   "cell_type": "code",
   "execution_count": 3,
   "metadata": {},
   "outputs": [],
   "source": [
    "# Create the model\n",
    "generation_config = {\n",
    "  \"temperature\": 1.3,\n",
    "  \"top_p\": 0.9,\n",
    "  \"top_k\": 40,\n",
    "  \"max_output_tokens\": 8192,\n",
    "  \"response_mime_type\": \"application/json\",\n",
    "}"
   ]
  },
  {
   "cell_type": "code",
   "execution_count": 27,
   "metadata": {},
   "outputs": [],
   "source": [
    "import json\n",
    "def check_image_relevance(model, image_path, keywords):\n",
    "    \"\"\"\n",
    "    Check relevancy of an image based on keywords using Gemini.\n",
    "    \"\"\"\n",
    "    try:\n",
    "        myfile = genai.upload_file(image_path)\n",
    "        print(f\"{myfile=}\")\n",
    "\n",
    "        prompt = f\"\"\"Please tell me whether the image given is of this or not check thourghly ,\n",
    "        common name: {keywords[0]}\n",
    "        scientific name: {keywords[1]}\n",
    "        Based on your assessment give relevancy score on the scale of 1 to 10.\"\n",
    "        Return the response strictly in json format:\n",
    "        {{\n",
    "        \"score_1_to_10\":\"numberscore_out_of_10_here\",\n",
    "        \"Final_Verdict\":\"Y/N\"\n",
    "        }}\"\"\"\n",
    "\n",
    "        result = model.generate_content([myfile, prompt])\n",
    "        print(f\"{result}\")\n",
    "        response_json = json.loads(result.text)\n",
    "\n",
    "        return int(response_json.get(\"score_1_to_10\", 0)) > 7 and response_json.get(\"Final_Verdict\") == \"Y\"\n",
    "    except Exception as e:\n",
    "        print(f\"Error checking image relevance for {image_path}: {e}\")\n",
    "        return False"
   ]
  },
  {
   "cell_type": "code",
>>>>>>> 1976d5e (final script)
   "execution_count": null,
   "metadata": {},
   "outputs": [
    {
     "name": "stdout",
     "output_type": "stream",
     "text": [
<<<<<<< HEAD

     ]
    }
   ],
   "source": [
    "load_dotenv()\n",
    "api_key = os.getenv('api_key')\n",
    "genai.configure(api_key=api_key)"
=======
      "myfile=genai.File({\n",
      "    'name': 'files/8e6f1ys35gys',\n",
      "    'display_name': 'image_name_34.jpg',\n",
      "    'mime_type': 'image/jpeg',\n",
      "    'sha256_hash': 'MTQzZDQ0ZjFjYzEzMWMwMjhjMmNkYjc0NDEzYjJjZWUzZWI3Yzc1ZTM2OGI1Y2M2Njg2Y2FhN2Q1NTFhMzY5Nw==',\n",
      "    'size_bytes': '7752',\n",
      "    'state': 'ACTIVE',\n",
      "    'uri': 'https://generativelanguage.googleapis.com/v1beta/files/8e6f1ys35gys',\n",
      "    'create_time': '2024-11-12T14:33:02.109571Z',\n",
      "    'expiration_time': '2024-11-14T14:33:02.038930977Z',\n",
      "    'update_time': '2024-11-12T14:33:02.109571Z'})\n",
      "response:\n",
      "GenerateContentResponse(\n",
      "    done=True,\n",
      "    iterator=None,\n",
      "    result=protos.GenerateContentResponse({\n",
      "      \"candidates\": [\n",
      "        {\n",
      "          \"content\": {\n",
      "            \"parts\": [\n",
      "              {\n",
      "                \"text\": \"{\\\"score_1_to_10\\\": \\\"10\\\", \\\"Final_Verdict\\\": \\\"Y\\\"}\\n\"\n",
      "              }\n",
      "            ],\n",
      "            \"role\": \"model\"\n",
      "          },\n",
      "          \"finish_reason\": \"STOP\",\n",
      "          \"avg_logprobs\": -0.0029088304094646287\n",
      "        }\n",
      "      ],\n",
      "      \"usage_metadata\": {\n",
      "        \"prompt_token_count\": 369,\n",
      "        \"candidates_token_count\": 23,\n",
      "        \"total_token_count\": 392\n",
      "      }\n",
      "    }),\n",
      ")\n"
     ]
    },
    {
     "data": {
      "text/plain": [
       "True"
      ]
     },
     "execution_count": 28,
     "metadata": {},
     "output_type": "execute_result"
    }
   ],
   "source": [
    "keywords = ('Cochinilla acanalada', 'Icerya purchasi')\n",
    "model = genai.GenerativeModel(\"gemini-1.5-pro\", generation_config={\n",
    "        \"temperature\": 1.3,\n",
    "        \"top_p\": 0.9,\n",
    "        \"top_k\": 40,\n",
    "        \"max_output_tokens\": 8192,\n",
    "        \"response_mime_type\": \"application/json\"\n",
    "    })\n",
    "\n",
    "check_image_relevance(model,img_path,keywords)"
>>>>>>> 1976d5e (final script)
   ]
  },
  {
   "cell_type": "code",
<<<<<<< HEAD
   "execution_count": 15,
=======
   "execution_count": 29,
>>>>>>> 1976d5e (final script)
   "metadata": {},
   "outputs": [
    {
     "name": "stdout",
     "output_type": "stream",
     "text": [
<<<<<<< HEAD
      "myfile=genai.File({\n",
      "    'name': 'files/92idqbc597tt',\n",
      "    'display_name': 'image_name_25.jpg',\n",
      "    'mime_type': 'image/jpeg',\n",
      "    'sha256_hash': 'NTk0OWJhMDU4OGJkZGVmYjUyNjQ1Y2ZjNWYyZWU4ZjM4NGY1MDdlZWIzYTEwZDdkYTJiZjVlMDBhODM0NTMxZg==',\n",
      "    'size_bytes': '4168',\n",
      "    'state': 'ACTIVE',\n",
      "    'uri': 'https://generativelanguage.googleapis.com/v1beta/files/92idqbc597tt',\n",
      "    'create_time': '2024-11-08T11:51:54.449337Z',\n",
      "    'expiration_time': '2024-11-10T11:51:54.394111391Z',\n",
      "    'update_time': '2024-11-08T11:51:54.449337Z'})\n",
      "result.text='The image shows a close-up of an aphid, a small, pear-shaped insect that feeds on plant sap. While it is difficult to identify the exact species from this image, it does resemble Aphis gossypii, also known as the cotton aphid, based on its body shape, color, and presence of a white, waxy covering.  \\n\\nRelevance Score: 8 \\n'\n"
=======
      "{'score_1_to_10': '10', 'Final_Verdict': 'Y'}\n",
      "<class 'dict'>\n",
      "{'candidates': [{'content': {'parts': [{'text': '{\"score_1_to_10\":\"10\", \"Final_Verdict\":\"Y\"}\\n'}], 'role': 'model'}, 'finish_reason': 1, 'avg_logprobs': -0.03291950339362735, 'safety_ratings': [], 'token_count': 0, 'grounding_attributions': []}], 'usage_metadata': {'prompt_token_count': 361, 'candidates_token_count': 21, 'total_token_count': 382, 'cached_content_token_count': 0}}\n"
>>>>>>> 1976d5e (final script)
     ]
    }
   ],
   "source": [
<<<<<<< HEAD
    "myfile = genai.upload_file(\"new_images/image_name_25.jpg\")\n",
    "print(f\"{myfile=}\")\n",
    "prompt = \"Given the following image and keywords, determine the relevance of the image to the keywords:\\n\\\n",
    "Keywords: Aphis gossypii, cotton aphid\\n\\\n",
    "Please provide a brief explanation for your assessment. \\n\\\n",
    "Based on your assessment give relevancy score on the scale of 1 to 10.\"\n",
    "\n",
    "model = genai.GenerativeModel(\"gemini-1.5-flash\")\n",
    "result = model.generate_content([myfile, \"\\n\\n\", prompt])\n",
    "print(f\"{result.text=}\")"
=======
    "import json\n",
    "\n",
    "print(json.loads(result.text))\n",
    "print(type(json.loads(result.text)))\n",
    "print(result.to_dict())"
   ]
  },
  {
   "cell_type": "code",
   "execution_count": 17,
   "metadata": {},
   "outputs": [],
   "source": [
    "def create_folder(service, folder_name):\n",
    "    \"\"\"Create a folder on Google Drive and return the folder ID.\"\"\"\n",
    "    file_metadata = {\n",
    "        'name': folder_name,\n",
    "        'parents': ['1-30we5O6YunT9vK8je5YMHOSdyYUFAqD'],\n",
    "        'mimeType': 'application/vnd.google-apps.folder'\n",
    "    }\n",
    "\n",
    "    folder = service.files().create(body=file_metadata, fields='id').execute()\n",
    "    print(f\"Folder created with ID: {folder['id']}\")\n",
    "    return folder['id']"
   ]
  },
  {
   "cell_type": "code",
   "execution_count": 18,
   "metadata": {},
   "outputs": [
    {
     "name": "stdout",
     "output_type": "stream",
     "text": [
      "Folder created with ID: 1c2Q9oCWUAlX9L1dzJj8qaWPRqZgcyTl0\n",
      "folder id:  1c2Q9oCWUAlX9L1dzJj8qaWPRqZgcyTl0\n",
      "file_metadata={'name': 'image_name_0.jpg', 'parents': ['1c2Q9oCWUAlX9L1dzJj8qaWPRqZgcyTl0']}\n",
      "file={'id': '1Xb9qkIi7zHIY_G41HxsJbvENYVE0ghC6'}\n",
      "File uploaded. File ID: 1Xb9qkIi7zHIY_G41HxsJbvENYVE0ghC6\n"
     ]
    }
   ],
   "source": [
    "# google drive integration\n",
    "from googleapiclient.discovery import build\n",
    "from google.oauth2 import service_account\n",
    "from googleapiclient.http import MediaFileUpload\n",
    "\n",
    "creds = service_account.Credentials.from_service_account_file(\n",
    "    'image-project-441409-14ab96bd49d0.json',\n",
    "    scopes=['https://www.googleapis.com/auth/drive']\n",
    ")\n",
    "\n",
    "drive_service = build('drive', 'v3', credentials=creds)\n",
    "\n",
    "folder_id = create_folder(drive_service, 'pest')\n",
    "print(\"folder id: \", folder_id)\n",
    "\n",
    "file_metadata = {\n",
    "    'name': 'image_name_0.jpg',\n",
    "    'parents': [folder_id]\n",
    "}\n",
    "file_path = 'images/image_name_0.jpg'\n",
    "print(f'{file_metadata=}')\n",
    "\n",
    "media = MediaFileUpload(file_path, mimetype='image/jpeg')\n",
    "\n",
    "file = drive_service.files().create(body=file_metadata, media_body=media, fields='id').execute()\n",
    "print(f\"{file=}\")\n",
    "\n",
    "print(f\"File uploaded. File ID: {file['id']}\")"
   ]
  },
  {
   "cell_type": "code",
   "execution_count": null,
   "metadata": {},
   "outputs": [],
   "source": [
    "from pydrive.drive import GoogleDrive\n",
    "from pydrive.auth import GoogleAuth\n",
    "\n",
    "current_directory = os.getcwd()\n",
    "service_account_creds = os.path.join(current_directory,'image-project-441409-14ab96bd49d0.json')\n",
    "\n",
    "def authenticate_drive(cred_file):\n",
    "    gauth = GoogleAuth()\n",
    "\n",
    "    gauth.LoadCredentialsFile(cred_file)\n",
    "\n",
    "    if gauth.credentials is None:\n",
    "        gauth.LocalWebserverAuth()\n",
    "    elif gauth.access_token_expired:\n",
    "        gauth.Refresh()\n",
    "    else:\n",
    "        gauth.Authorize()\n",
    "\n",
    "    gauth.SaveCredentialsFile(os.path.join(current_directory, 'image-project-441409-14ab96bd49d0.json'))\n",
    "\n",
    "    drive = GoogleDrive(gauth)\n",
    "    return drive\n",
    "\n"
   ]
  },
  {
   "cell_type": "code",
   "execution_count": null,
   "metadata": {},
   "outputs": [],
   "source": [
    "def create_drive_folder(drive, folder_name, parent_id=None):\n",
    "    folder_metadata = {\n",
    "        'title': folder_name,\n",
    "        'mimeType': 'application/vnd.google-apps.folder'\n",
    "    }\n",
    "    if parent_id:\n",
    "        folder_metadata['parents'] = [{\"id\": parent_id}]\n",
    "\n",
    "    folder = drive.CreateFile(folder_metadata)\n",
    "    folder.Upload()\n",
    "    return folder['id']"
   ]
  },
  {
   "cell_type": "code",
   "execution_count": null,
   "metadata": {},
   "outputs": [],
   "source": []
  },
  {
   "cell_type": "code",
   "execution_count": 30,
   "metadata": {},
   "outputs": [
    {
     "name": "stdout",
     "output_type": "stream",
     "text": [
      "Requirement already satisfied: pillow in c:\\users\\varma\\downloads\\work\\serp\\env\\lib\\site-packages (11.0.0)\n",
      "Collecting ImageHash\n",
      "  Downloading ImageHash-4.3.1-py2.py3-none-any.whl.metadata (8.0 kB)\n",
      "Collecting PyWavelets (from ImageHash)\n",
      "  Downloading pywavelets-1.7.0-cp311-cp311-win_amd64.whl.metadata (9.0 kB)\n",
      "Requirement already satisfied: numpy in c:\\users\\varma\\downloads\\work\\serp\\env\\lib\\site-packages (from ImageHash) (2.1.2)\n",
      "Collecting scipy (from ImageHash)\n",
      "  Downloading scipy-1.14.1-cp311-cp311-win_amd64.whl.metadata (60 kB)\n",
      "Downloading ImageHash-4.3.1-py2.py3-none-any.whl (296 kB)\n",
      "Downloading pywavelets-1.7.0-cp311-cp311-win_amd64.whl (4.3 MB)\n",
      "   ---------------------------------------- 0.0/4.3 MB ? eta -:--:--\n",
      "   ---------------------------------------- 0.0/4.3 MB ? eta -:--:--\n",
      "   ---------------------------------------- 0.0/4.3 MB ? eta -:--:--\n",
      "   ---- ----------------------------------- 0.5/4.3 MB 8.5 MB/s eta 0:00:01\n",
      "   ---------------------- ----------------- 2.4/4.3 MB 7.9 MB/s eta 0:00:01\n",
      "   ---------------------------------------  4.2/4.3 MB 8.4 MB/s eta 0:00:01\n",
      "   ---------------------------------------- 4.3/4.3 MB 6.7 MB/s eta 0:00:00\n",
      "Downloading scipy-1.14.1-cp311-cp311-win_amd64.whl (44.8 MB)\n",
      "   ---------------------------------------- 0.0/44.8 MB ? eta -:--:--\n",
      "   - -------------------------------------- 2.1/44.8 MB 9.8 MB/s eta 0:00:05\n",
      "   --- ------------------------------------ 4.2/44.8 MB 9.7 MB/s eta 0:00:05\n",
      "   ----- ---------------------------------- 5.8/44.8 MB 9.3 MB/s eta 0:00:05\n",
      "   ------ --------------------------------- 7.1/44.8 MB 8.2 MB/s eta 0:00:05\n",
      "   ------- -------------------------------- 8.7/44.8 MB 8.0 MB/s eta 0:00:05\n",
      "   --------- ------------------------------ 10.2/44.8 MB 8.0 MB/s eta 0:00:05\n",
      "   ---------- ----------------------------- 11.3/44.8 MB 7.6 MB/s eta 0:00:05\n",
      "   ----------- ---------------------------- 12.6/44.8 MB 7.2 MB/s eta 0:00:05\n",
      "   ----------- ---------------------------- 13.4/44.8 MB 6.9 MB/s eta 0:00:05\n",
      "   ------------ --------------------------- 14.2/44.8 MB 6.5 MB/s eta 0:00:05\n",
      "   ------------- -------------------------- 14.7/44.8 MB 6.2 MB/s eta 0:00:05\n",
      "   -------------- ------------------------- 15.7/44.8 MB 6.1 MB/s eta 0:00:05\n",
      "   --------------- ------------------------ 17.0/44.8 MB 5.9 MB/s eta 0:00:05\n",
      "   ---------------- ----------------------- 18.9/44.8 MB 6.1 MB/s eta 0:00:05\n",
      "   ----------------- ---------------------- 19.9/44.8 MB 6.0 MB/s eta 0:00:05\n",
      "   ------------------- -------------------- 21.8/44.8 MB 6.2 MB/s eta 0:00:04\n",
      "   -------------------- ------------------- 23.1/44.8 MB 6.2 MB/s eta 0:00:04\n",
      "   ---------------------- ----------------- 24.9/44.8 MB 6.3 MB/s eta 0:00:04\n",
      "   ----------------------- ---------------- 26.2/44.8 MB 6.3 MB/s eta 0:00:03\n",
      "   ------------------------ --------------- 27.8/44.8 MB 6.3 MB/s eta 0:00:03\n",
      "   ------------------------- -------------- 29.1/44.8 MB 6.3 MB/s eta 0:00:03\n",
      "   -------------------------- ------------- 30.1/44.8 MB 6.3 MB/s eta 0:00:03\n",
      "   --------------------------- ------------ 30.7/44.8 MB 6.1 MB/s eta 0:00:03\n",
      "   --------------------------- ------------ 31.2/44.8 MB 6.0 MB/s eta 0:00:03\n",
      "   ---------------------------- ----------- 32.2/44.8 MB 5.9 MB/s eta 0:00:03\n",
      "   ----------------------------- ---------- 33.3/44.8 MB 5.9 MB/s eta 0:00:02\n",
      "   ------------------------------- -------- 35.1/44.8 MB 5.9 MB/s eta 0:00:02\n",
      "   -------------------------------- ------- 36.7/44.8 MB 6.0 MB/s eta 0:00:02\n",
      "   ---------------------------------- ----- 38.3/44.8 MB 6.1 MB/s eta 0:00:02\n",
      "   ----------------------------------- ---- 40.1/44.8 MB 6.1 MB/s eta 0:00:01\n",
      "   ------------------------------------- -- 41.9/44.8 MB 6.2 MB/s eta 0:00:01\n",
      "   ---------------------------------------  43.8/44.8 MB 6.3 MB/s eta 0:00:01\n",
      "   ---------------------------------------  44.6/44.8 MB 6.3 MB/s eta 0:00:01\n",
      "   ---------------------------------------- 44.8/44.8 MB 6.0 MB/s eta 0:00:00\n",
      "Installing collected packages: scipy, PyWavelets, ImageHash\n",
      "Successfully installed ImageHash-4.3.1 PyWavelets-1.7.0 scipy-1.14.1\n"
     ]
    }
   ],
   "source": [
    "!pip install pillow ImageHash"
   ]
  },
  {
   "cell_type": "code",
   "execution_count": null,
   "metadata": {},
   "outputs": [],
   "source": [
    "import os\n",
    "import imagehash\n",
    "from PIL import Image\n",
    "\n",
    "def generate_image_hash(image_path):\n",
    "    try:\n",
    "        with Image.open(image_path) as img:\n",
    "            # Generate perceptual hash using phash\n",
    "            return imagehash.phash(img)\n",
    "    except Exception as e:\n",
    "        print(f\"Error processing {image_path}: {e}\")\n",
    "        return None\n",
    "\n",
    "def detect_duplicates(image_folder, hash_threshold=5):\n",
    "    hashes = {}\n",
    "    duplicates = []\n",
    "\n",
    "    for subdir, _, files in os.walk(image_folder):\n",
    "        for file in files:\n",
    "            file_path = os.path.join(subdir, file)\n",
    "            img_hash = generate_image_hash(file_path)\n",
    "            if img_hash is not None:\n",
    "                for stored_hash, stored_path in hashes.items():\n",
    "                    # If the difference between hashes is below the threshold, it's a duplicate\n",
    "                    if abs(img_hash - stored_hash) <= hash_threshold:\n",
    "                        duplicates.append(file_path)\n",
    "                        break\n",
    "                else:\n",
    "                    hashes[img_hash] = file_path\n",
    "\n",
    "    return duplicates\n"
>>>>>>> 1976d5e (final script)
   ]
  }
 ],
 "metadata": {
  "kernelspec": {
   "display_name": "env",
   "language": "python",
   "name": "python3"
  },
  "language_info": {
   "codemirror_mode": {
    "name": "ipython",
    "version": 3
   },
   "file_extension": ".py",
   "mimetype": "text/x-python",
   "name": "python",
   "nbconvert_exporter": "python",
   "pygments_lexer": "ipython3",
   "version": "3.11.9"
  }
 },
 "nbformat": 4,
 "nbformat_minor": 2
}

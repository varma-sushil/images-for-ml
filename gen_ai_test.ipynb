{
 "cells": [
  {
   "cell_type": "code",
   "execution_count": 1,
   "metadata": {},
   "outputs": [],
   "source": [
    "!pip install -q google-generativeai"
   ]
  },
  {
   "cell_type": "code",
   "execution_count": 4,
   "metadata": {},
   "outputs": [],
   "source": [
    "import google.generativeai as genai\n",
    "from dotenv import load_dotenv\n",
    "import os"
   ]
  },
  {
   "cell_type": "code",
   "execution_count": null,
   "metadata": {},
   "outputs": [
    {
     "name": "stdout",
     "output_type": "stream",
     "text": [

     ]
    }
   ],
   "source": [
    "load_dotenv()\n",
    "api_key = os.getenv('api_key')\n",
    "genai.configure(api_key=api_key)"
   ]
  },
  {
   "cell_type": "code",
   "execution_count": 15,
   "metadata": {},
   "outputs": [
    {
     "name": "stdout",
     "output_type": "stream",
     "text": [
      "myfile=genai.File({\n",
      "    'name': 'files/92idqbc597tt',\n",
      "    'display_name': 'image_name_25.jpg',\n",
      "    'mime_type': 'image/jpeg',\n",
      "    'sha256_hash': 'NTk0OWJhMDU4OGJkZGVmYjUyNjQ1Y2ZjNWYyZWU4ZjM4NGY1MDdlZWIzYTEwZDdkYTJiZjVlMDBhODM0NTMxZg==',\n",
      "    'size_bytes': '4168',\n",
      "    'state': 'ACTIVE',\n",
      "    'uri': 'https://generativelanguage.googleapis.com/v1beta/files/92idqbc597tt',\n",
      "    'create_time': '2024-11-08T11:51:54.449337Z',\n",
      "    'expiration_time': '2024-11-10T11:51:54.394111391Z',\n",
      "    'update_time': '2024-11-08T11:51:54.449337Z'})\n",
      "result.text='The image shows a close-up of an aphid, a small, pear-shaped insect that feeds on plant sap. While it is difficult to identify the exact species from this image, it does resemble Aphis gossypii, also known as the cotton aphid, based on its body shape, color, and presence of a white, waxy covering.  \\n\\nRelevance Score: 8 \\n'\n"
     ]
    }
   ],
   "source": [
    "myfile = genai.upload_file(\"new_images/image_name_25.jpg\")\n",
    "print(f\"{myfile=}\")\n",
    "prompt = \"Given the following image and keywords, determine the relevance of the image to the keywords:\\n\\\n",
    "Keywords: Aphis gossypii, cotton aphid\\n\\\n",
    "Please provide a brief explanation for your assessment. \\n\\\n",
    "Based on your assessment give relevancy score on the scale of 1 to 10.\"\n",
    "\n",
    "model = genai.GenerativeModel(\"gemini-1.5-flash\")\n",
    "result = model.generate_content([myfile, \"\\n\\n\", prompt])\n",
    "print(f\"{result.text=}\")"
   ]
  }
 ],
 "metadata": {
  "kernelspec": {
   "display_name": "env",
   "language": "python",
   "name": "python3"
  },
  "language_info": {
   "codemirror_mode": {
    "name": "ipython",
    "version": 3
   },
   "file_extension": ".py",
   "mimetype": "text/x-python",
   "name": "python",
   "nbconvert_exporter": "python",
   "pygments_lexer": "ipython3",
   "version": "3.11.9"
  }
 },
 "nbformat": 4,
 "nbformat_minor": 2
}
